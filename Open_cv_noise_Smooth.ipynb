{
 "cells": [
  {
   "cell_type": "code",
   "execution_count": 1,
   "id": "f56f6cae-a6b2-4401-a1af-7147d0e3adc4",
   "metadata": {},
   "outputs": [],
   "source": [
    "import cv2"
   ]
  },
  {
   "cell_type": "code",
   "execution_count": 7,
   "id": "3d7ae603-9a14-43f5-b074-5b8b1c48943e",
   "metadata": {},
   "outputs": [],
   "source": [
    "img = cv2.imread('../Images/avengers.png')"
   ]
  },
  {
   "cell_type": "code",
   "execution_count": 9,
   "id": "86bcbedf-a92d-461f-aa09-99befa1d1ba4",
   "metadata": {},
   "outputs": [],
   "source": [
    "# Median Blur\n",
    "m_blur = cv2.medianBlur(img, 3)\n",
    "\n",
    "# Gaussian Blur, sigmaX(stdDev)= 1\n",
    "g_blur = cv2.GaussianBlur(img, (7,7), 1)\n",
    "\n",
    "cv2.imshow('Original', img)\n",
    "cv2.imshow('median', m_blur)\n",
    "cv2.imshow('gaussian', g_blur)\n",
    "\n",
    "\n",
    "# press any key with 0 wait time\n",
    "cv2.waitKey(0)\n",
    "# Close all imageframe\n",
    "cv2.destroyAllWindows()\n"
   ]
  },
  {
   "cell_type": "code",
   "execution_count": null,
   "id": "704ec85e-0082-47b8-9fb7-db0646b70460",
   "metadata": {},
   "outputs": [],
   "source": []
  }
 ],
 "metadata": {
  "kernelspec": {
   "display_name": "Python 3 (ipykernel)",
   "language": "python",
   "name": "python3"
  },
  "language_info": {
   "codemirror_mode": {
    "name": "ipython",
    "version": 3
   },
   "file_extension": ".py",
   "mimetype": "text/x-python",
   "name": "python",
   "nbconvert_exporter": "python",
   "pygments_lexer": "ipython3",
   "version": "3.12.4"
  }
 },
 "nbformat": 4,
 "nbformat_minor": 5
}
