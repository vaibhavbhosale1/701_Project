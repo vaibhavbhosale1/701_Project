{
 "cells": [
  {
   "cell_type": "code",
   "execution_count": 1,
   "id": "4a077f85-e2e2-4d9f-a8fa-597371e41054",
   "metadata": {},
   "outputs": [],
   "source": [
    "import cv2"
   ]
  },
  {
   "cell_type": "code",
   "execution_count": 3,
   "id": "d9664253-2bf4-4172-b1e3-6a99f2e726b4",
   "metadata": {},
   "outputs": [],
   "source": [
    "img = cv2.imread('../Images/parrot.jpg')"
   ]
  },
  {
   "cell_type": "code",
   "execution_count": 4,
   "id": "257c9c11-cac9-422a-8c75-9b07005f0b00",
   "metadata": {},
   "outputs": [
    {
     "name": "stdout",
     "output_type": "stream",
     "text": [
      "[[[55 89 42]\n",
      "  [49 83 36]\n",
      "  [45 75 32]\n",
      "  ...\n",
      "  [ 5 10 13]\n",
      "  [ 5 10 13]\n",
      "  [ 5 10 13]]\n",
      "\n",
      " [[46 80 33]\n",
      "  [48 82 35]\n",
      "  [51 81 38]\n",
      "  ...\n",
      "  [ 5 10 13]\n",
      "  [ 5 10 13]\n",
      "  [ 5 10 13]]\n",
      "\n",
      " [[49 83 36]\n",
      "  [47 81 34]\n",
      "  [46 76 33]\n",
      "  ...\n",
      "  [ 5 10 13]\n",
      "  [ 5 10 13]\n",
      "  [ 5 10 13]]\n",
      "\n",
      " ...\n",
      "\n",
      " [[ 3 11  4]\n",
      "  [ 1  9  2]\n",
      "  [ 2 10  3]\n",
      "  ...\n",
      "  [16 25 12]\n",
      "  [18 27 14]\n",
      "  [14 23 10]]\n",
      "\n",
      " [[ 3 11  4]\n",
      "  [ 0  8  1]\n",
      "  [ 0  8  1]\n",
      "  ...\n",
      "  [16 26 10]\n",
      "  [17 26 13]\n",
      "  [14 23 10]]\n",
      "\n",
      " [[ 0  8  1]\n",
      "  [ 0  8  1]\n",
      "  [ 0  8  1]\n",
      "  ...\n",
      "  [17 27 11]\n",
      "  [16 26 10]\n",
      "  [14 24  8]]]\n"
     ]
    }
   ],
   "source": [
    "# opencv reads image in BGR Format \n",
    "print(img)"
   ]
  },
  {
   "cell_type": "code",
   "execution_count": 7,
   "id": "756262f5-0564-4b45-bc8d-fd381e0bf4ca",
   "metadata": {},
   "outputs": [],
   "source": [
    "# convert BGR format to Grayscale\n",
    "img_g = cv2.cvtColor(img, cv2.COLOR_BGR2GRAY)"
   ]
  },
  {
   "cell_type": "code",
   "execution_count": 11,
   "id": "87751747-9b3a-4952-8f71-2fc8256af32d",
   "metadata": {},
   "outputs": [],
   "source": [
    "cv2.imshow('frame1', img)"
   ]
  },
  {
   "cell_type": "code",
   "execution_count": null,
   "id": "55bf31bc-3ac7-432f-aa45-511ebd31e39d",
   "metadata": {},
   "outputs": [],
   "source": [
    "cv2.imshow('frame2', img_g)"
   ]
  },
  {
   "cell_type": "code",
   "execution_count": 9,
   "id": "1e1e468b-37b1-4921-b8cd-8a551987dab5",
   "metadata": {},
   "outputs": [],
   "source": [
    "cv2.imshow('frame1', img)\n",
    "cv2.imshow('frame2', img_g)\n",
    "\n",
    "# press any key with 0 wait time\n",
    "cv2.waitKey(0)\n",
    "# Close all imageframe\n",
    "cv2.destroyAllWindows()"
   ]
  },
  {
   "cell_type": "code",
   "execution_count": null,
   "id": "1ce53cf0-12f4-4b26-8139-f6c94547ace1",
   "metadata": {},
   "outputs": [],
   "source": []
  }
 ],
 "metadata": {
  "kernelspec": {
   "display_name": "Python 3 (ipykernel)",
   "language": "python",
   "name": "python3"
  },
  "language_info": {
   "codemirror_mode": {
    "name": "ipython",
    "version": 3
   },
   "file_extension": ".py",
   "mimetype": "text/x-python",
   "name": "python",
   "nbconvert_exporter": "python",
   "pygments_lexer": "ipython3",
   "version": "3.12.4"
  }
 },
 "nbformat": 4,
 "nbformat_minor": 5
}
