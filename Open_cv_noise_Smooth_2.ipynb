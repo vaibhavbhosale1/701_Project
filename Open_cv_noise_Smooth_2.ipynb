{
 "cells": [
  {
   "cell_type": "code",
   "execution_count": 2,
   "id": "4e66a923-7754-43d9-8125-b3e6b62641a9",
   "metadata": {},
   "outputs": [],
   "source": [
    "import cv2\n",
    "import random"
   ]
  },
  {
   "cell_type": "code",
   "execution_count": 4,
   "id": "9c0febd4-c677-4cf5-a118-1566179d198b",
   "metadata": {},
   "outputs": [],
   "source": [
    "def noise_black_white(image):\n",
    "    # Get the dimensions of Image\n",
    "    row, col = image.shape\n",
    "    num_of_pixels = random.randint(1500, 20000)\n",
    "    for i in range(num_of_pixels):\n",
    "        # pick random y-coordinate\n",
    "        y_coordinate = random.randint(0, row - 1)\n",
    "        # pick random x-coordinate\n",
    "        x_coordinate = random.randint(0, col - 1)\n",
    "        image[y_coordinate][x_coordinate] = 255\n",
    "    for i in range(num_of_pixels):\n",
    "        # pick random y-coordinate\n",
    "        y_coordinate = random.randint(0, row - 1)\n",
    "        # pick random x-coordinate\n",
    "        x_coordinate = random.randint(0, col - 1)\n",
    "        image[y_coordinate][x_coordinate] = 0\n",
    "    return image\n"
   ]
  },
  {
   "cell_type": "code",
   "execution_count": 6,
   "id": "93a73072-39da-47df-8fe0-5d6e95a59c3d",
   "metadata": {},
   "outputs": [],
   "source": [
    "image = cv2.imread(\"../Images/parrot.jpg\", cv2.IMREAD_GRAYSCALE)\n"
   ]
  },
  {
   "cell_type": "code",
   "execution_count": 10,
   "id": "99a37286-ab88-4022-87fa-26baaa0572ef",
   "metadata": {},
   "outputs": [],
   "source": [
    "cv2.imshow('Original Image', image)\n",
    "cv2.imshow('Noisy Image',noise_black_white(image))\n",
    "\n",
    "cv2.imwrite(\"E:/OpenCV/noisy_image.jpg\",noise_black_white(image))\n",
    "\n",
    "# press any key with 0 wait time\n",
    "cv2.waitKey(0)\n",
    "# Close all imageframe\n",
    "cv2.destroyAllWindows()"
   ]
  },
  {
   "cell_type": "code",
   "execution_count": null,
   "id": "a52317b4-e6a2-4e5f-aac2-fc4a25fa207b",
   "metadata": {},
   "outputs": [],
   "source": []
  }
 ],
 "metadata": {
  "kernelspec": {
   "display_name": "Python 3 (ipykernel)",
   "language": "python",
   "name": "python3"
  },
  "language_info": {
   "codemirror_mode": {
    "name": "ipython",
    "version": 3
   },
   "file_extension": ".py",
   "mimetype": "text/x-python",
   "name": "python",
   "nbconvert_exporter": "python",
   "pygments_lexer": "ipython3",
   "version": "3.12.4"
  }
 },
 "nbformat": 4,
 "nbformat_minor": 5
}
