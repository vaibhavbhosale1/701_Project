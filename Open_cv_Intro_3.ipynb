{
 "cells": [
  {
   "cell_type": "code",
   "execution_count": 2,
   "id": "19d27740-7456-4b1a-9e2a-df544338fbb1",
   "metadata": {},
   "outputs": [],
   "source": [
    "# Apply smoothening of Image - Apply Blur\n",
    "import cv2 \n",
    "import numpy as np"
   ]
  },
  {
   "cell_type": "code",
   "execution_count": 4,
   "id": "a9ab25c6-5051-473c-9446-1db77650b61a",
   "metadata": {},
   "outputs": [],
   "source": [
    "img = cv2.imread(\"../Images/child.jpg\")"
   ]
  },
  {
   "cell_type": "code",
   "execution_count": 6,
   "id": "f3fd331c-2fdd-490d-a286-1b3eb4b9b034",
   "metadata": {},
   "outputs": [
    {
     "name": "stdout",
     "output_type": "stream",
     "text": [
      "[[0.04 0.04 0.04 0.04 0.04]\n",
      " [0.04 0.04 0.04 0.04 0.04]\n",
      " [0.04 0.04 0.04 0.04 0.04]\n",
      " [0.04 0.04 0.04 0.04 0.04]\n",
      " [0.04 0.04 0.04 0.04 0.04]]\n"
     ]
    }
   ],
   "source": [
    "# Blur using Filter2D\n",
    "kernel = np.ones((5,5), np.float32) / 25\n",
    "print(kernel)"
   ]
  },
  {
   "cell_type": "code",
   "execution_count": 8,
   "id": "f8fa070a-cf3b-4b34-aa4c-85c1bf195427",
   "metadata": {},
   "outputs": [],
   "source": [
    "# Filter2D\n",
    "smoothed = cv2.filter2D(img, -1, kernel)"
   ]
  },
  {
   "cell_type": "code",
   "execution_count": 10,
   "id": "c888b1d5-1699-4e3b-ac35-298e85de9dc7",
   "metadata": {},
   "outputs": [],
   "source": [
    "# Average Blur\n",
    "img_blur = cv2.blur(img, (5,5))"
   ]
  },
  {
   "cell_type": "code",
   "execution_count": 12,
   "id": "6186960d-5cf9-43a2-8ad5-ccc0e0669638",
   "metadata": {},
   "outputs": [],
   "source": [
    "# Median Blur\n",
    "m_blur = cv2.medianBlur(img, 7)"
   ]
  },
  {
   "cell_type": "code",
   "execution_count": 14,
   "id": "e2c8df36-1fbe-4bf0-b318-e3e1ed4814e1",
   "metadata": {},
   "outputs": [],
   "source": [
    "# Gaussian Blur, sigmaX(stdDev)= 1\n",
    "g_blur = cv2.GaussianBlur(img, (7,7), 1)\n"
   ]
  },
  {
   "cell_type": "code",
   "execution_count": 16,
   "id": "5b62da2b-938e-4c95-99e8-9f2f62f7c748",
   "metadata": {},
   "outputs": [],
   "source": [
    "cv2.imshow('Original', img)\n",
    "cv2.imshow('Blur', smoothed)\n",
    "cv2.imshow('average', img_blur)\n",
    "cv2.imshow('median', m_blur)\n",
    "cv2.imshow('gaussian', g_blur)\n",
    "\n",
    "# press any key with 0 wait time\n",
    "cv2.waitKey(0)\n",
    "# Close all imageframe\n",
    "cv2.destroyAllWindows()"
   ]
  },
  {
   "cell_type": "code",
   "execution_count": null,
   "id": "dadfc64a-7c83-4404-af10-518c840b2684",
   "metadata": {},
   "outputs": [],
   "source": []
  }
 ],
 "metadata": {
  "kernelspec": {
   "display_name": "Python 3 (ipykernel)",
   "language": "python",
   "name": "python3"
  },
  "language_info": {
   "codemirror_mode": {
    "name": "ipython",
    "version": 3
   },
   "file_extension": ".py",
   "mimetype": "text/x-python",
   "name": "python",
   "nbconvert_exporter": "python",
   "pygments_lexer": "ipython3",
   "version": "3.12.4"
  }
 },
 "nbformat": 4,
 "nbformat_minor": 5
}
